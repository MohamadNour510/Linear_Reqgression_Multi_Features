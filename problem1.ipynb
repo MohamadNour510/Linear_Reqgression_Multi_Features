{
 "cells": [
  {
   "cell_type": "markdown",
   "metadata": {},
   "source": [
    "Exercise: Predict Car Prices using Multiple Linear Regression 🚗💰\n",
    "\n",
    "\n",
    "Dataset (Features → Car Price in $1000s)\n",
    "\n",
    "Features: Age (years),Mileage (1000 km), Engine Size (L)"
   ]
  },
  {
   "cell_type": "code",
   "execution_count": 14,
   "metadata": {},
   "outputs": [],
   "source": [
    "import numpy as np \n",
    "import matplotlib.pyplot as plt\n",
    "from sklearn.linear_model import  LinearRegression\n",
    "\n",
    "from sklearn.preprocessing import StandardScaler\n",
    "\n"
   ]
  },
  {
   "cell_type": "code",
   "execution_count": 7,
   "metadata": {},
   "outputs": [
    {
     "data": {
      "text/plain": [
       "(6, 3)"
      ]
     },
     "execution_count": 7,
     "metadata": {},
     "output_type": "execute_result"
    }
   ],
   "source": [
    "# Dataset (Age, Mileage, Engine Size) → Car Price\n",
    "X = np.array([\n",
    "    [1, 10, 2.0],\n",
    "    [3, 30, 2.2],\n",
    "    [5, 50, 2.5],\n",
    "    [7, 70, 2.8],\n",
    "    [10, 100, 3.0],\n",
    "    [12, 120, 3.2]\n",
    "])\n",
    "\n",
    "Y = np.array([35, 28, 24, 19, 15, 12])  # Car Price in $1000s\n",
    "\n"
   ]
  },
  {
   "cell_type": "code",
   "execution_count": 10,
   "metadata": {},
   "outputs": [
    {
     "data": {
      "text/plain": [
       "array([[ 1.        , -1.39792649, -1.39792649, -1.44792189],\n",
       "       [ 1.        , -0.87370406, -0.87370406, -0.9783256 ],\n",
       "       [ 1.        , -0.34948162, -0.34948162, -0.27393117],\n",
       "       [ 1.        ,  0.17474081,  0.17474081,  0.43046326],\n",
       "       [ 1.        ,  0.96107446,  0.96107446,  0.90005955],\n",
       "       [ 1.        ,  1.4852969 ,  1.4852969 ,  1.36965584]])"
      ]
     },
     "execution_count": 10,
     "metadata": {},
     "output_type": "execute_result"
    }
   ],
   "source": [
    "#Features Scalling (Normalization)\n",
    "\n",
    "scalar=StandardScaler()\n",
    "\n",
    "X_norm=scalar.fit_transform(X)\n",
    "\n",
    "\n",
    "# Add bias column (x0 = 1)\n",
    "X_bias = np.c_[np.ones(X.shape[0]), X_norm]\n",
    "X_bias"
   ]
  },
  {
   "cell_type": "code",
   "execution_count": 28,
   "metadata": {},
   "outputs": [
    {
     "data": {
      "text/plain": [
       "array([0., 0., 0., 0.])"
      ]
     },
     "execution_count": 28,
     "metadata": {},
     "output_type": "execute_result"
    }
   ],
   "source": [
    "# Initialize parameters\n",
    "theta = np.zeros(X_bias.shape[1])\n",
    "alpha = 0.1  # Learning rate\n",
    "iterations = 1000\n",
    "m = len(Y)  # Number of training samples\n",
    "cost_history = []\n",
    "\n",
    "\n",
    "theta"
   ]
  },
  {
   "cell_type": "code",
   "execution_count": 30,
   "metadata": {},
   "outputs": [
    {
     "name": "stdout",
     "output_type": "stream",
     "text": [
      "Final Theta Coefficients: [22.16666667 -0.64124051 -0.64124051 -6.47810772]\n"
     ]
    },
    {
     "data": {
      "text/plain": [
       "(4,)"
      ]
     },
     "execution_count": 30,
     "metadata": {},
     "output_type": "execute_result"
    }
   ],
   "source": [
    "# Gradient Descent Algorithm\n",
    "for _ in range(iterations):\n",
    "    y_pred = X_bias @ theta  # Predictions\n",
    "    error = y_pred - Y\n",
    "    cost = (1 / (2 * m)) * np.sum(error ** 2)  # Mean Squared Error\n",
    "    cost_history.append(cost)\n",
    "\n",
    "    # Compute gradients and update parameters\n",
    "    gradients = (1 / m) * (X_bias.T @ error)\n",
    "    theta -= alpha * gradients\n",
    "\n",
    "# Print final parameters\n",
    "print(f\"Final Theta Coefficients: {theta}\")\n",
    "\n",
    "\n"
   ]
  },
  {
   "cell_type": "code",
   "execution_count": 15,
   "metadata": {},
   "outputs": [
    {
     "data": {
      "image/png": "[encoded data removed]",
      "text/plain": [
       "<Figure size 640x480 with 1 Axes>"
      ]
     },
     "metadata": {},
     "output_type": "display_data"
    }
   ],
   "source": [
    "plt.plot(range(iterations), cost_history, label=\"Cost Function\")\n",
    "plt.xlabel(\"Iterations\")\n",
    "plt.ylabel(\"Cost (MSE)\")\n",
    "plt.title(\"Gradient Descent Convergence\")\n",
    "plt.legend()\n",
    "plt.show()\n"
   ]
  },
  {
   "cell_type": "code",
   "execution_count": 32,
   "metadata": {},
   "outputs": [
    {
     "name": "stdout",
     "output_type": "stream",
     "text": [
      "Predicted Car Price: $22532.23\n"
     ]
    },
    {
     "data": {
      "text/plain": [
       "array([[ 1.        , -0.08737041, -0.08737041, -0.03913302]])"
      ]
     },
     "execution_count": 32,
     "metadata": {},
     "output_type": "execute_result"
    }
   ],
   "source": [
    "# Given Car: 6 years old, 60,000 km, 2.6L engine\n",
    "new_car = np.array([[6, 60, 2.6]])\n",
    "\n",
    "new_car_norm=scalar.transform(new_car)\n",
    "new_car_bias = np.c_[np.ones(new_car.shape[0]), new_car_norm]\n",
    "# Predict price\n",
    "predicted_price = new_car_bias @ theta\n",
    "\n",
    "print(f\"Predicted Car Price: ${predicted_price[0] * 1000:.2f}\")\n",
    "new_car_bias\n"
   ]
  },
  {
   "cell_type": "code",
   "execution_count": null,
   "metadata": {},
   "outputs": [],
   "source": []
  }
 ],
 "metadata": {
  "kernelspec": {
   "display_name": "base",
   "language": "python",
   "name": "python3"
  },
  "language_info": {
   "codemirror_mode": {
    "name": "ipython",
    "version": 3
   },
   "file_extension": ".py",
   "mimetype": "text/x-python",
   "name": "python",
   "nbconvert_exporter": "python",
   "pygments_lexer": "ipython3",
   "version": "3.12.7"
  }
 },
 "nbformat": 4,
 "nbformat_minor": 2
}
