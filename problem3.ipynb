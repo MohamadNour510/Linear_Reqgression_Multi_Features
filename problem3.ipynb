{
 "cells": [
  {
   "cell_type": "markdown",
   "metadata": {},
   "source": [
    "Exercise: Predict Car Prices Using Multiple Linear Regression\n",
    "Problem Statement:\n",
    "\n",
    "A car dealership wants to predict the price of a used car based on multiple features such as the year of manufacture, mileage (km driven), engine size (cc), and fuel type (petrol = 1, diesel = 0).\n",
    "\n",
    " Given the dataset below, implement multiple linear regression using gradient descent to find the optimal parameters.\n",
    "\n",
    "\n"
   ]
  },
  {
   "cell_type": "code",
   "execution_count": 1,
   "metadata": {},
   "outputs": [],
   "source": [
    "import numpy as np \n",
    "import matplotlib.pyplot as plt\n",
    "from sklearn.linear_model import  LinearRegression\n",
    "from sklearn.preprocessing import  StandardScaler\n"
   ]
  },
  {
   "cell_type": "code",
   "execution_count": 40,
   "metadata": {},
   "outputs": [],
   "source": [
    "# Features: [Year, Mileage (km), Engine Size (cc), Fuel Type (Petrol=1, Diesel=0)]\n",
    "X = np.array([\n",
    "    [2015, 60000, 1500, 1],\n",
    "    [2018, 30000, 1800, 1],\n",
    "    [2012, 85000, 1300, 0],\n",
    "    [2016, 40000, 1600, 1],\n",
    "    [2014, 70000, 1400, 0],\n",
    "    [2017, 20000, 2000, 1],\n",
    "    [2011, 90000, 1200, 0],\n",
    "    [2019, 15000, 2200, 1]\n",
    "])\n",
    "\n",
    "# Target: Car Price in $1000s\n",
    "Y= np.array([12, 18, 8, 15, 10, 20, 6, 25])"
   ]
  },
  {
   "cell_type": "code",
   "execution_count": 41,
   "metadata": {},
   "outputs": [
    {
     "data": {
      "text/plain": [
       "array([[ 1.        , -0.0949158 ,  0.32118203, -0.38235956,  0.77459667],\n",
       "       [ 1.        ,  1.0440738 , -0.7800135 ,  0.53530338,  0.77459667],\n",
       "       [ 1.        , -1.23390539,  1.23884496, -0.99413485, -1.29099445],\n",
       "       [ 1.        ,  0.2847474 , -0.41294832, -0.07647191,  0.77459667],\n",
       "       [ 1.        , -0.474579  ,  0.6882472 , -0.6882472 , -1.29099445],\n",
       "       [ 1.        ,  0.6644106 , -1.14707867,  1.14707867,  0.77459667],\n",
       "       [ 1.        , -1.61356859,  1.42237755, -1.30002249, -1.29099445],\n",
       "       [ 1.        ,  1.42373699, -1.33061126,  1.75885396,  0.77459667]])"
      ]
     },
     "execution_count": 41,
     "metadata": {},
     "output_type": "execute_result"
    }
   ],
   "source": [
    "#Features Scaling (Standarization)\n",
    "\n",
    "scale=StandardScaler()\n",
    "\n",
    "X_norm=scale.fit_transform(X)\n",
    "\n",
    "#add bais\n",
    "\n",
    "X_bias=np.c_[np.ones(X_norm.shape[0]),X_norm]\n",
    "\n",
    "X_bais"
   ]
  },
  {
   "cell_type": "code",
   "execution_count": 42,
   "metadata": {},
   "outputs": [],
   "source": [
    "# Initialize parameters\n",
    "\n",
    "theta=np.zeros(X_bais.shape[1])\n",
    "alpha=0.1\n",
    "iterations=1000\n",
    "m=X.shape[0]\n",
    "cost_history=[]\n"
   ]
  },
  {
   "cell_type": "code",
   "execution_count": 45,
   "metadata": {},
   "outputs": [
    {
     "name": "stdout",
     "output_type": "stream",
     "text": [
      "Final Theta Coefficients: [14.25        1.26881754 -0.35581862  4.50838777 -0.02786273]\n"
     ]
    },
    {
     "data": {
      "text/plain": [
       "array([14.25      ,  1.26881754, -0.35581862,  4.50838777, -0.02786273])"
      ]
     },
     "execution_count": 45,
     "metadata": {},
     "output_type": "execute_result"
    }
   ],
   "source": [
    "#Apply Gradien Descent Algorithm\n",
    "\n",
    "for _ in range(iterations):\n",
    "    y_pred=X_bias @ theta\n",
    "    \n",
    "    #compute mean error square\n",
    "    error=y_pred - Y\n",
    "    cost=(1/(2*m)) * np.sum(error**2)\n",
    "    cost_history.append(cost)\n",
    "    \n",
    "    # Compute gradients and update parameters\n",
    "    \n",
    "    gradients=(1/m) * (X_bais.T @ error)\n",
    "    theta-=alpha*gradients\n",
    "\n",
    "# Print final parameters\n",
    "print(f\"Final Theta Coefficients: {theta}\")\n",
    "    \n"
   ]
  },
  {
   "cell_type": "code",
   "execution_count": 46,
   "metadata": {},
   "outputs": [
    {
     "data": {
      "image/png": "[encoded data removed]",
      "text/plain": [
       "<Figure size 640x480 with 1 Axes>"
      ]
     },
     "metadata": {},
     "output_type": "display_data"
    }
   ],
   "source": [
    "plt.plot(range(iterations), cost_history, label=\"Cost Function\")\n",
    "plt.xlabel(\"Iterations\")\n",
    "plt.ylabel(\"Cost (MSE)\")\n",
    "plt.title(\"Gradient Descent Convergence\")\n",
    "plt.legend()\n",
    "plt.show()"
   ]
  },
  {
   "cell_type": "code",
   "execution_count": 57,
   "metadata": {},
   "outputs": [
    {
     "name": "stdout",
     "output_type": "stream",
     "text": [
      "Predicted Car Price: $14742.99\n"
     ]
    }
   ],
   "source": [
    "new_car=np.array([[2017,50000,1600,1]])\n",
    "\n",
    "new_car_norm=scale.transform(new_car)\n",
    "\n",
    "\n",
    "new_car_bais=np.c_[np.ones(new_car_norm.shape[0]),new_car_norm]\n",
    "\n",
    "predicetedCarPrice=new_car_bais @ theta\n",
    "\n",
    "print(f\"Predicted Car Price: ${predicetedCarPrice[0] * 1000:.2f}\")"
   ]
  },
  {
   "cell_type": "code",
   "execution_count": 56,
   "metadata": {},
   "outputs": [
    {
     "data": {
      "text/plain": [
       "(5,)"
      ]
     },
     "execution_count": 56,
     "metadata": {},
     "output_type": "execute_result"
    }
   ],
   "source": []
  },
  {
   "cell_type": "code",
   "execution_count": null,
   "metadata": {},
   "outputs": [],
   "source": []
  }
 ],
 "metadata": {
  "kernelspec": {
   "display_name": "base",
   "language": "python",
   "name": "python3"
  },
  "language_info": {
   "codemirror_mode": {
    "name": "ipython",
    "version": 3
   },
   "file_extension": ".py",
   "mimetype": "text/x-python",
   "name": "python",
   "nbconvert_exporter": "python",
   "pygments_lexer": "ipython3",
   "version": "3.12.7"
  }
 },
 "nbformat": 4,
 "nbformat_minor": 2
}
